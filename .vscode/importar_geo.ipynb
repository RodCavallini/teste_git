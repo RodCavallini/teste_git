{
 "cells": [
  {
   "cell_type": "code",
   "execution_count": 26,
   "metadata": {},
   "outputs": [
    {
     "name": "stdout",
     "output_type": "stream",
     "text": [
      "Área: 25.0\n",
      "Perímetro: 20.0\n"
     ]
    }
   ],
   "source": [
    "from geometria import Retangulo\n",
    "x = float(input(\"INFORME O VALOR DA BASE\"))\n",
    "y = float(input(\"INFORME O VALOR DA ALTURA\"))\n",
    "retangulo1 = Retangulo(x,y)\n",
    "area1 = retangulo1.area()\n",
    "perimetro1 = retangulo1.perimetro()\n",
    "\n",
    "print(f\"Área: {area1}\")\n",
    "print(f\"Perímetro: {perimetro1}\")"
   ]
  }
 ],
 "metadata": {
  "kernelspec": {
   "display_name": "Python 3",
   "language": "python",
   "name": "python3"
  },
  "language_info": {
   "codemirror_mode": {
    "name": "ipython",
    "version": 3
   },
   "file_extension": ".py",
   "mimetype": "text/x-python",
   "name": "python",
   "nbconvert_exporter": "python",
   "pygments_lexer": "ipython3",
   "version": "3.12.4"
  }
 },
 "nbformat": 4,
 "nbformat_minor": 2
}
