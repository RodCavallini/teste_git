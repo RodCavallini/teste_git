{
 "cells": [
  {
   "cell_type": "code",
   "execution_count": 3,
   "metadata": {},
   "outputs": [
    {
     "ename": "NameError",
     "evalue": "name 'datetime' is not defined",
     "output_type": "error",
     "traceback": [
      "\u001b[1;31m---------------------------------------------------------------------------\u001b[0m",
      "\u001b[1;31mNameError\u001b[0m                                 Traceback (most recent call last)",
      "Cell \u001b[1;32mIn[3], line 5\u001b[0m\n\u001b[0;32m      3\u001b[0m locale\u001b[38;5;241m.\u001b[39msetlocale(locale\u001b[38;5;241m.\u001b[39mLC_TIME, \u001b[38;5;124m'\u001b[39m\u001b[38;5;124mpt_BR.UTF-8\u001b[39m\u001b[38;5;124m'\u001b[39m)\n\u001b[0;32m      4\u001b[0m \u001b[38;5;66;03m# Obtendo a data e hora atual\u001b[39;00m\n\u001b[1;32m----> 5\u001b[0m now \u001b[38;5;241m=\u001b[39m \u001b[43mdatetime\u001b[49m\u001b[38;5;241m.\u001b[39mnow()\n\u001b[0;32m      6\u001b[0m \u001b[38;5;66;03m# Formatando a data para exibir nomes de meses e dias da semana em português\u001b[39;00m\n\u001b[0;32m      7\u001b[0m formatted_date \u001b[38;5;241m=\u001b[39m now\u001b[38;5;241m.\u001b[39mstrftime(\u001b[38;5;124m\"\u001b[39m\u001b[38;5;124m%\u001b[39m\u001b[38;5;124mA, \u001b[39m\u001b[38;5;132;01m%d\u001b[39;00m\u001b[38;5;124m de \u001b[39m\u001b[38;5;124m%\u001b[39m\u001b[38;5;124mB de \u001b[39m\u001b[38;5;124m%\u001b[39m\u001b[38;5;124mY, \u001b[39m\u001b[38;5;124m%\u001b[39m\u001b[38;5;124mH:\u001b[39m\u001b[38;5;124m%\u001b[39m\u001b[38;5;124mM:\u001b[39m\u001b[38;5;124m%\u001b[39m\u001b[38;5;124mS\u001b[39m\u001b[38;5;124m\"\u001b[39m)\n",
      "\u001b[1;31mNameError\u001b[0m: name 'datetime' is not defined"
     ]
    }
   ],
   "source": [
    "import locale\n",
    "# Definindo a localização para português do Brasil\n",
    "locale.setlocale(locale.LC_TIME, 'pt_BR.UTF-8')\n",
    "# Obtendo a data e hora atual\n",
    "now = datetime.now()\n",
    "# Formatando a data para exibir nomes de meses e dias da semana em português\n",
    "formatted_date = now.strftime(\"%A, %d de %B de %Y, %H:%M:%S\")\n",
    "print(formatted_date)"
   ]
  },
  {
   "cell_type": "markdown",
   "metadata": {},
   "source": [
    "Exercicio 1\n"
   ]
  },
  {
   "cell_type": "code",
   "execution_count": 9,
   "metadata": {},
   "outputs": [
    {
     "data": {
      "text/plain": [
       "False"
      ]
     },
     "execution_count": 9,
     "metadata": {},
     "output_type": "execute_result"
    }
   ],
   "source": [
    "eh_multiplo_dez = lambda x : (x % 10) == 0\n",
    "eh_multiplo_dez(149)"
   ]
  },
  {
   "cell_type": "markdown",
   "metadata": {},
   "source": [
    "Exercicio 2\n"
   ]
  },
  {
   "cell_type": "code",
   "execution_count": 14,
   "metadata": {},
   "outputs": [
    {
     "data": {
      "text/plain": [
       "120"
      ]
     },
     "execution_count": 14,
     "metadata": {},
     "output_type": "execute_result"
    }
   ],
   "source": [
    "def calcular_fatorial(n):\n",
    "  \"\"\"\n",
    "  Calcula o fatorial de um número inteiro.\n",
    "\n",
    "  Args:\n",
    "    n: O número inteiro para calcular o fatorial.\n",
    "\n",
    "  Returns:\n",
    "    O fatorial de n.\n",
    "  \"\"\"\n",
    "  if n < 0:\n",
    "    return \"O fatorial não está definido para números negativos.\"\n",
    "  elif n == 0:\n",
    "    return 1\n",
    "  else:\n",
    "    fatorial = 1\n",
    "    for i in range(1, n + 1):\n",
    "      fatorial *= i\n",
    "    return fatorial\n",
    "\n",
    "calcular_fatorial(5)"
   ]
  },
  {
   "cell_type": "markdown",
   "metadata": {},
   "source": [
    "Exercicio 3"
   ]
  },
  {
   "cell_type": "code",
   "execution_count": 26,
   "metadata": {},
   "outputs": [
    {
     "name": "stdout",
     "output_type": "stream",
     "text": [
      "['João', 'Maria', 'Ana', 'Ana']\n"
     ]
    }
   ],
   "source": [
    "def primeiro_nome(nome_completo):\n",
    "    nome_split = nome_completo.split()\n",
    "    return nome_split[0]\n",
    "\n",
    "nomes = ['João Carlos', 'Maria Eduarda', 'Ana Rute', 'Ana Clara']\n",
    "so_primeiro_nome = list(map(primeiro_nome, nomes))\n",
    "\n",
    "print(so_primeiro_nome) "
   ]
  },
  {
   "cell_type": "markdown",
   "metadata": {},
   "source": [
    "4"
   ]
  },
  {
   "cell_type": "code",
   "execution_count": 25,
   "metadata": {},
   "outputs": [
    {
     "name": "stdout",
     "output_type": "stream",
     "text": [
      "Wednesday\n"
     ]
    }
   ],
   "source": [
    "from datetime import datetime\n",
    "\n",
    "def dia_da_semana(data):\n",
    "    # converte a string para datetime\n",
    "    data = datetime.strptime(data, '%d/%m/%Y')\n",
    "    # formata a data para obter o nome do dia da semana\n",
    "    nome_dia_da_semana = data.strftime('%A')\n",
    "\n",
    "    return nome_dia_da_semana\n",
    "\n",
    "# exemplo de uso da função\n",
    "data = '21/10/1981'\n",
    "print(dia_da_semana(data)) "
   ]
  }
 ],
 "metadata": {
  "kernelspec": {
   "display_name": "Python 3",
   "language": "python",
   "name": "python3"
  },
  "language_info": {
   "codemirror_mode": {
    "name": "ipython",
    "version": 3
   },
   "file_extension": ".py",
   "mimetype": "text/x-python",
   "name": "python",
   "nbconvert_exporter": "python",
   "pygments_lexer": "ipython3",
   "version": "3.12.4"
  }
 },
 "nbformat": 4,
 "nbformat_minor": 2
}
